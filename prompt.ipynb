{
 "cells": [
  {
   "cell_type": "markdown",
   "metadata": {
    "id": "CcUT6Fon_qRE"
   },
   "source": [
    "### Required Assignment 5.1: Will the Customer Accept the Coupon?\n",
    "\n",
    "**Context**\n",
    "\n",
    "Imagine driving through town and a coupon is delivered to your cell phone for a restaurant near where you are driving. Would you accept that coupon and take a short detour to the restaurant? Would you accept the coupon but use it on a subsequent trip? Would you ignore the coupon entirely? What if the coupon was for a bar instead of a restaurant? What about a coffee house? Would you accept a bar coupon with a minor passenger in the car? What about if it was just you and your partner in the car? Would weather impact the rate of acceptance? What about the time of day?\n",
    "\n",
    "Obviously, proximity to the business is a factor on whether the coupon is delivered to the driver or not, but what are the factors that determine whether a driver accepts the coupon once it is delivered to them? How would you determine whether a driver is likely to accept a coupon?\n",
    "\n",
    "**Overview**\n",
    "\n",
    "The goal of this project is to use what you know about visualizations and probability distributions to distinguish between customers who accepted a driving coupon versus those that did not.\n",
    "\n",
    "**Data**\n",
    "\n",
    "This data comes to us from the UCI Machine Learning repository and was collected via a survey on Amazon Mechanical Turk. The survey describes different driving scenarios including the destination, current time, weather, passenger, etc., and then ask the person whether he will accept the coupon if he is the driver. Answers that the user will drive there ‘right away’ or ‘later before the coupon expires’ are labeled as ‘Y = 1’ and answers ‘no, I do not want the coupon’ are labeled as ‘Y = 0’.  There are five different types of coupons -- less expensive restaurants (under \\$20), coffee houses, carry out & take away, bar, and more expensive restaurants (\\$20 - $50)."
   ]
  },
  {
   "cell_type": "markdown",
   "metadata": {
    "id": "1wORvMBJ_qRF"
   },
   "source": [
    "**Deliverables**\n",
    "\n",
    "Your final product should be a brief report that highlights the differences between customers who did and did not accept the coupons.  To explore the data you will utilize your knowledge of plotting, statistical summaries, and visualization using Python. You will publish your findings in a public facing github repository as your first portfolio piece.\n",
    "\n",
    "\n",
    "\n"
   ]
  },
  {
   "cell_type": "markdown",
   "metadata": {
    "id": "pG6_Ym6q_qRG"
   },
   "source": [
    "### Data Description\n",
    "Keep in mind that these values mentioned below are average values.\n",
    "\n",
    "The attributes of this data set include:\n",
    "1. User attributes\n",
    "    -  Gender: male, female\n",
    "    -  Age: below 21, 21 to 25, 26 to 30, etc.\n",
    "    -  Marital Status: single, married partner, unmarried partner, or widowed\n",
    "    -  Number of children: 0, 1, or more than 1\n",
    "    -  Education: high school, bachelors degree, associates degree, or graduate degree\n",
    "    -  Occupation: architecture & engineering, business & financial, etc.\n",
    "    -  Annual income: less than \\\\$12500, \\\\$12500 - \\\\$24999, \\\\$25000 - \\\\$37499, etc.\n",
    "    -  Number of times that he/she goes to a bar: 0, less than 1, 1 to 3, 4 to 8 or greater than 8\n",
    "    -  Number of times that he/she buys takeaway food: 0, less than 1, 1 to 3, 4 to 8 or greater\n",
    "    than 8\n",
    "    -  Number of times that he/she goes to a coffee house: 0, less than 1, 1 to 3, 4 to 8 or\n",
    "    greater than 8\n",
    "    -  Number of times that he/she eats at a restaurant with average expense less than \\\\$20 per\n",
    "    person: 0, less than 1, 1 to 3, 4 to 8 or greater than 8\n",
    "    -  Number of times that he/she goes to a bar: 0, less than 1, 1 to 3, 4 to 8 or greater than 8\n",
    "    \n",
    "\n",
    "2. Contextual attributes\n",
    "    - Driving destination: home, work, or no urgent destination\n",
    "    - Location of user, coupon and destination: we provide a map to show the geographical\n",
    "    location of the user, destination, and the venue, and we mark the distance between each\n",
    "    two places with time of driving. The user can see whether the venue is in the same\n",
    "    direction as the destination.\n",
    "    - Weather: sunny, rainy, or snowy\n",
    "    - Temperature: 30F, 55F, or 80F\n",
    "    - Time: 10AM, 2PM, or 6PM\n",
    "    - Passenger: alone, partner, kid(s), or friend(s)\n",
    "\n",
    "\n",
    "3. Coupon attributes\n",
    "    - time before it expires: 2 hours or one day"
   ]
  },
  {
   "cell_type": "code",
   "execution_count": 2,
   "metadata": {
    "id": "dzNoP3o__qRG"
   },
   "outputs": [],
   "source": [
    "import matplotlib.pyplot as plt\n",
    "import seaborn as sns\n",
    "import pandas as pd\n",
    "import numpy as np"
   ]
  },
  {
   "cell_type": "markdown",
   "metadata": {
    "id": "Ct8pI1uE_qRG"
   },
   "source": [
    "### Problems\n",
    "\n",
    "Use the prompts below to get started with your data analysis.  \n",
    "\n",
    "1. Read in the `coupons.csv` file.\n",
    "\n",
    "\n"
   ]
  },
  {
   "cell_type": "code",
   "execution_count": 3,
   "metadata": {
    "id": "X0vbffYg_qRH"
   },
   "outputs": [],
   "source": [
    "data = pd.read_csv('data/coupons.csv')"
   ]
  },
  {
   "cell_type": "code",
   "execution_count": 4,
   "metadata": {
    "id": "TXofQ_DF_qRH",
    "outputId": "2fc96a2c-1112-4b54-f24f-dbb9bc88abfb"
   },
   "outputs": [
    {
     "data": {
      "text/html": [
       "<div>\n",
       "<style scoped>\n",
       "    .dataframe tbody tr th:only-of-type {\n",
       "        vertical-align: middle;\n",
       "    }\n",
       "\n",
       "    .dataframe tbody tr th {\n",
       "        vertical-align: top;\n",
       "    }\n",
       "\n",
       "    .dataframe thead th {\n",
       "        text-align: right;\n",
       "    }\n",
       "</style>\n",
       "<table border=\"1\" class=\"dataframe\">\n",
       "  <thead>\n",
       "    <tr style=\"text-align: right;\">\n",
       "      <th></th>\n",
       "      <th>destination</th>\n",
       "      <th>passanger</th>\n",
       "      <th>weather</th>\n",
       "      <th>temperature</th>\n",
       "      <th>time</th>\n",
       "      <th>coupon</th>\n",
       "      <th>expiration</th>\n",
       "      <th>gender</th>\n",
       "      <th>age</th>\n",
       "      <th>maritalStatus</th>\n",
       "      <th>...</th>\n",
       "      <th>CoffeeHouse</th>\n",
       "      <th>CarryAway</th>\n",
       "      <th>RestaurantLessThan20</th>\n",
       "      <th>Restaurant20To50</th>\n",
       "      <th>toCoupon_GEQ5min</th>\n",
       "      <th>toCoupon_GEQ15min</th>\n",
       "      <th>toCoupon_GEQ25min</th>\n",
       "      <th>direction_same</th>\n",
       "      <th>direction_opp</th>\n",
       "      <th>Y</th>\n",
       "    </tr>\n",
       "  </thead>\n",
       "  <tbody>\n",
       "    <tr>\n",
       "      <th>10668</th>\n",
       "      <td>No Urgent Place</td>\n",
       "      <td>Alone</td>\n",
       "      <td>Sunny</td>\n",
       "      <td>80</td>\n",
       "      <td>10PM</td>\n",
       "      <td>Restaurant(&lt;20)</td>\n",
       "      <td>1d</td>\n",
       "      <td>Female</td>\n",
       "      <td>26</td>\n",
       "      <td>Married partner</td>\n",
       "      <td>...</td>\n",
       "      <td>never</td>\n",
       "      <td>1~3</td>\n",
       "      <td>less1</td>\n",
       "      <td>never</td>\n",
       "      <td>1</td>\n",
       "      <td>0</td>\n",
       "      <td>0</td>\n",
       "      <td>0</td>\n",
       "      <td>1</td>\n",
       "      <td>0</td>\n",
       "    </tr>\n",
       "    <tr>\n",
       "      <th>4092</th>\n",
       "      <td>No Urgent Place</td>\n",
       "      <td>Partner</td>\n",
       "      <td>Sunny</td>\n",
       "      <td>80</td>\n",
       "      <td>10AM</td>\n",
       "      <td>Restaurant(20-50)</td>\n",
       "      <td>2h</td>\n",
       "      <td>Male</td>\n",
       "      <td>21</td>\n",
       "      <td>Unmarried partner</td>\n",
       "      <td>...</td>\n",
       "      <td>less1</td>\n",
       "      <td>4~8</td>\n",
       "      <td>1~3</td>\n",
       "      <td>less1</td>\n",
       "      <td>1</td>\n",
       "      <td>0</td>\n",
       "      <td>0</td>\n",
       "      <td>0</td>\n",
       "      <td>1</td>\n",
       "      <td>0</td>\n",
       "    </tr>\n",
       "    <tr>\n",
       "      <th>10366</th>\n",
       "      <td>No Urgent Place</td>\n",
       "      <td>Partner</td>\n",
       "      <td>Sunny</td>\n",
       "      <td>55</td>\n",
       "      <td>2PM</td>\n",
       "      <td>Bar</td>\n",
       "      <td>1d</td>\n",
       "      <td>Female</td>\n",
       "      <td>26</td>\n",
       "      <td>Unmarried partner</td>\n",
       "      <td>...</td>\n",
       "      <td>less1</td>\n",
       "      <td>1~3</td>\n",
       "      <td>4~8</td>\n",
       "      <td>1~3</td>\n",
       "      <td>1</td>\n",
       "      <td>0</td>\n",
       "      <td>0</td>\n",
       "      <td>0</td>\n",
       "      <td>1</td>\n",
       "      <td>0</td>\n",
       "    </tr>\n",
       "    <tr>\n",
       "      <th>12589</th>\n",
       "      <td>Work</td>\n",
       "      <td>Alone</td>\n",
       "      <td>Sunny</td>\n",
       "      <td>80</td>\n",
       "      <td>7AM</td>\n",
       "      <td>Restaurant(20-50)</td>\n",
       "      <td>2h</td>\n",
       "      <td>Male</td>\n",
       "      <td>21</td>\n",
       "      <td>Single</td>\n",
       "      <td>...</td>\n",
       "      <td>never</td>\n",
       "      <td>1~3</td>\n",
       "      <td>1~3</td>\n",
       "      <td>less1</td>\n",
       "      <td>1</td>\n",
       "      <td>0</td>\n",
       "      <td>0</td>\n",
       "      <td>1</td>\n",
       "      <td>0</td>\n",
       "      <td>0</td>\n",
       "    </tr>\n",
       "    <tr>\n",
       "      <th>1023</th>\n",
       "      <td>No Urgent Place</td>\n",
       "      <td>Friend(s)</td>\n",
       "      <td>Sunny</td>\n",
       "      <td>55</td>\n",
       "      <td>2PM</td>\n",
       "      <td>Carry out &amp; Take away</td>\n",
       "      <td>1d</td>\n",
       "      <td>Female</td>\n",
       "      <td>50plus</td>\n",
       "      <td>Divorced</td>\n",
       "      <td>...</td>\n",
       "      <td>4~8</td>\n",
       "      <td>4~8</td>\n",
       "      <td>4~8</td>\n",
       "      <td>less1</td>\n",
       "      <td>1</td>\n",
       "      <td>1</td>\n",
       "      <td>0</td>\n",
       "      <td>0</td>\n",
       "      <td>1</td>\n",
       "      <td>1</td>\n",
       "    </tr>\n",
       "    <tr>\n",
       "      <th>3162</th>\n",
       "      <td>Work</td>\n",
       "      <td>Alone</td>\n",
       "      <td>Sunny</td>\n",
       "      <td>55</td>\n",
       "      <td>7AM</td>\n",
       "      <td>Restaurant(&lt;20)</td>\n",
       "      <td>1d</td>\n",
       "      <td>Male</td>\n",
       "      <td>41</td>\n",
       "      <td>Married partner</td>\n",
       "      <td>...</td>\n",
       "      <td>1~3</td>\n",
       "      <td>1~3</td>\n",
       "      <td>4~8</td>\n",
       "      <td>less1</td>\n",
       "      <td>1</td>\n",
       "      <td>0</td>\n",
       "      <td>0</td>\n",
       "      <td>0</td>\n",
       "      <td>1</td>\n",
       "      <td>1</td>\n",
       "    </tr>\n",
       "    <tr>\n",
       "      <th>12420</th>\n",
       "      <td>No Urgent Place</td>\n",
       "      <td>Friend(s)</td>\n",
       "      <td>Snowy</td>\n",
       "      <td>30</td>\n",
       "      <td>2PM</td>\n",
       "      <td>Restaurant(&lt;20)</td>\n",
       "      <td>1d</td>\n",
       "      <td>Male</td>\n",
       "      <td>31</td>\n",
       "      <td>Married partner</td>\n",
       "      <td>...</td>\n",
       "      <td>less1</td>\n",
       "      <td>4~8</td>\n",
       "      <td>1~3</td>\n",
       "      <td>4~8</td>\n",
       "      <td>1</td>\n",
       "      <td>0</td>\n",
       "      <td>0</td>\n",
       "      <td>0</td>\n",
       "      <td>1</td>\n",
       "      <td>0</td>\n",
       "    </tr>\n",
       "    <tr>\n",
       "      <th>9596</th>\n",
       "      <td>Work</td>\n",
       "      <td>Alone</td>\n",
       "      <td>Rainy</td>\n",
       "      <td>55</td>\n",
       "      <td>7AM</td>\n",
       "      <td>Bar</td>\n",
       "      <td>1d</td>\n",
       "      <td>Female</td>\n",
       "      <td>31</td>\n",
       "      <td>Unmarried partner</td>\n",
       "      <td>...</td>\n",
       "      <td>1~3</td>\n",
       "      <td>4~8</td>\n",
       "      <td>1~3</td>\n",
       "      <td>1~3</td>\n",
       "      <td>1</td>\n",
       "      <td>1</td>\n",
       "      <td>1</td>\n",
       "      <td>0</td>\n",
       "      <td>1</td>\n",
       "      <td>0</td>\n",
       "    </tr>\n",
       "    <tr>\n",
       "      <th>10667</th>\n",
       "      <td>No Urgent Place</td>\n",
       "      <td>Alone</td>\n",
       "      <td>Snowy</td>\n",
       "      <td>30</td>\n",
       "      <td>2PM</td>\n",
       "      <td>Bar</td>\n",
       "      <td>1d</td>\n",
       "      <td>Female</td>\n",
       "      <td>26</td>\n",
       "      <td>Married partner</td>\n",
       "      <td>...</td>\n",
       "      <td>never</td>\n",
       "      <td>1~3</td>\n",
       "      <td>less1</td>\n",
       "      <td>never</td>\n",
       "      <td>1</td>\n",
       "      <td>0</td>\n",
       "      <td>0</td>\n",
       "      <td>0</td>\n",
       "      <td>1</td>\n",
       "      <td>0</td>\n",
       "    </tr>\n",
       "    <tr>\n",
       "      <th>12231</th>\n",
       "      <td>Home</td>\n",
       "      <td>Alone</td>\n",
       "      <td>Sunny</td>\n",
       "      <td>80</td>\n",
       "      <td>6PM</td>\n",
       "      <td>Restaurant(20-50)</td>\n",
       "      <td>1d</td>\n",
       "      <td>Female</td>\n",
       "      <td>21</td>\n",
       "      <td>Married partner</td>\n",
       "      <td>...</td>\n",
       "      <td>1~3</td>\n",
       "      <td>1~3</td>\n",
       "      <td>1~3</td>\n",
       "      <td>less1</td>\n",
       "      <td>1</td>\n",
       "      <td>0</td>\n",
       "      <td>0</td>\n",
       "      <td>1</td>\n",
       "      <td>0</td>\n",
       "      <td>0</td>\n",
       "    </tr>\n",
       "  </tbody>\n",
       "</table>\n",
       "<p>10 rows × 26 columns</p>\n",
       "</div>"
      ],
      "text/plain": [
       "           destination  passanger weather  temperature  time  \\\n",
       "10668  No Urgent Place      Alone   Sunny           80  10PM   \n",
       "4092   No Urgent Place    Partner   Sunny           80  10AM   \n",
       "10366  No Urgent Place    Partner   Sunny           55   2PM   \n",
       "12589             Work      Alone   Sunny           80   7AM   \n",
       "1023   No Urgent Place  Friend(s)   Sunny           55   2PM   \n",
       "3162              Work      Alone   Sunny           55   7AM   \n",
       "12420  No Urgent Place  Friend(s)   Snowy           30   2PM   \n",
       "9596              Work      Alone   Rainy           55   7AM   \n",
       "10667  No Urgent Place      Alone   Snowy           30   2PM   \n",
       "12231             Home      Alone   Sunny           80   6PM   \n",
       "\n",
       "                      coupon expiration  gender     age      maritalStatus  \\\n",
       "10668        Restaurant(<20)         1d  Female      26    Married partner   \n",
       "4092       Restaurant(20-50)         2h    Male      21  Unmarried partner   \n",
       "10366                    Bar         1d  Female      26  Unmarried partner   \n",
       "12589      Restaurant(20-50)         2h    Male      21             Single   \n",
       "1023   Carry out & Take away         1d  Female  50plus           Divorced   \n",
       "3162         Restaurant(<20)         1d    Male      41    Married partner   \n",
       "12420        Restaurant(<20)         1d    Male      31    Married partner   \n",
       "9596                     Bar         1d  Female      31  Unmarried partner   \n",
       "10667                    Bar         1d  Female      26    Married partner   \n",
       "12231      Restaurant(20-50)         1d  Female      21    Married partner   \n",
       "\n",
       "       ...  CoffeeHouse CarryAway RestaurantLessThan20 Restaurant20To50  \\\n",
       "10668  ...        never       1~3                less1            never   \n",
       "4092   ...        less1       4~8                  1~3            less1   \n",
       "10366  ...        less1       1~3                  4~8              1~3   \n",
       "12589  ...        never       1~3                  1~3            less1   \n",
       "1023   ...          4~8       4~8                  4~8            less1   \n",
       "3162   ...          1~3       1~3                  4~8            less1   \n",
       "12420  ...        less1       4~8                  1~3              4~8   \n",
       "9596   ...          1~3       4~8                  1~3              1~3   \n",
       "10667  ...        never       1~3                less1            never   \n",
       "12231  ...          1~3       1~3                  1~3            less1   \n",
       "\n",
       "      toCoupon_GEQ5min toCoupon_GEQ15min toCoupon_GEQ25min direction_same  \\\n",
       "10668                1                 0                 0              0   \n",
       "4092                 1                 0                 0              0   \n",
       "10366                1                 0                 0              0   \n",
       "12589                1                 0                 0              1   \n",
       "1023                 1                 1                 0              0   \n",
       "3162                 1                 0                 0              0   \n",
       "12420                1                 0                 0              0   \n",
       "9596                 1                 1                 1              0   \n",
       "10667                1                 0                 0              0   \n",
       "12231                1                 0                 0              1   \n",
       "\n",
       "      direction_opp  Y  \n",
       "10668             1  0  \n",
       "4092              1  0  \n",
       "10366             1  0  \n",
       "12589             0  0  \n",
       "1023              1  1  \n",
       "3162              1  1  \n",
       "12420             1  0  \n",
       "9596              1  0  \n",
       "10667             1  0  \n",
       "12231             0  0  \n",
       "\n",
       "[10 rows x 26 columns]"
      ]
     },
     "execution_count": 4,
     "metadata": {},
     "output_type": "execute_result"
    }
   ],
   "source": [
    "#10 counts just to get better idea of the data with more rows\n",
    "data.head(10)\n",
    "\n",
    "#would prefer sample method, it helps in getting wholistic view of data to certain extent\n",
    "data.sample(10)\n",
    "#To print the information about DataFrame (index dtype, columns, non-null values)\n",
    "#data.info(verbose=True)   #I the output we see the data type \n"
   ]
  },
  {
   "cell_type": "markdown",
   "metadata": {
    "id": "GcDs78ZH_qRH"
   },
   "source": [
    "2. Investigate the dataset for missing or problematic data."
   ]
  },
  {
   "cell_type": "code",
   "execution_count": 5,
   "metadata": {
    "id": "6CwL6oWj_qRH"
   },
   "outputs": [
    {
     "name": "stdout",
     "output_type": "stream",
     "text": [
      "<class 'pandas.core.frame.DataFrame'>\n",
      "RangeIndex: 12684 entries, 0 to 12683\n",
      "Data columns (total 26 columns):\n",
      " #   Column                Non-Null Count  Dtype \n",
      "---  ------                --------------  ----- \n",
      " 0   destination           12684 non-null  object\n",
      " 1   passanger             12684 non-null  object\n",
      " 2   weather               12684 non-null  object\n",
      " 3   temperature           12684 non-null  int64 \n",
      " 4   time                  12684 non-null  object\n",
      " 5   coupon                12684 non-null  object\n",
      " 6   expiration            12684 non-null  object\n",
      " 7   gender                12684 non-null  object\n",
      " 8   age                   12684 non-null  object\n",
      " 9   maritalStatus         12684 non-null  object\n",
      " 10  has_children          12684 non-null  int64 \n",
      " 11  education             12684 non-null  object\n",
      " 12  occupation            12684 non-null  object\n",
      " 13  income                12684 non-null  object\n",
      " 14  car                   108 non-null    object\n",
      " 15  Bar                   12577 non-null  object\n",
      " 16  CoffeeHouse           12467 non-null  object\n",
      " 17  CarryAway             12533 non-null  object\n",
      " 18  RestaurantLessThan20  12554 non-null  object\n",
      " 19  Restaurant20To50      12495 non-null  object\n",
      " 20  toCoupon_GEQ5min      12684 non-null  int64 \n",
      " 21  toCoupon_GEQ15min     12684 non-null  int64 \n",
      " 22  toCoupon_GEQ25min     12684 non-null  int64 \n",
      " 23  direction_same        12684 non-null  int64 \n",
      " 24  direction_opp         12684 non-null  int64 \n",
      " 25  Y                     12684 non-null  int64 \n",
      "dtypes: int64(8), object(18)\n",
      "memory usage: 2.5+ MB\n"
     ]
    },
    {
     "data": {
      "text/html": [
       "<div>\n",
       "<style scoped>\n",
       "    .dataframe tbody tr th:only-of-type {\n",
       "        vertical-align: middle;\n",
       "    }\n",
       "\n",
       "    .dataframe tbody tr th {\n",
       "        vertical-align: top;\n",
       "    }\n",
       "\n",
       "    .dataframe thead th {\n",
       "        text-align: right;\n",
       "    }\n",
       "</style>\n",
       "<table border=\"1\" class=\"dataframe\">\n",
       "  <thead>\n",
       "    <tr style=\"text-align: right;\">\n",
       "      <th></th>\n",
       "      <th>temperature</th>\n",
       "      <th>has_children</th>\n",
       "      <th>toCoupon_GEQ5min</th>\n",
       "      <th>toCoupon_GEQ15min</th>\n",
       "      <th>toCoupon_GEQ25min</th>\n",
       "      <th>direction_same</th>\n",
       "      <th>direction_opp</th>\n",
       "      <th>Y</th>\n",
       "    </tr>\n",
       "  </thead>\n",
       "  <tbody>\n",
       "    <tr>\n",
       "      <th>temperature</th>\n",
       "      <td>1.000000</td>\n",
       "      <td>-0.019716</td>\n",
       "      <td>NaN</td>\n",
       "      <td>-0.155332</td>\n",
       "      <td>-0.216254</td>\n",
       "      <td>0.097085</td>\n",
       "      <td>-0.097085</td>\n",
       "      <td>0.061240</td>\n",
       "    </tr>\n",
       "    <tr>\n",
       "      <th>has_children</th>\n",
       "      <td>-0.019716</td>\n",
       "      <td>1.000000</td>\n",
       "      <td>NaN</td>\n",
       "      <td>0.078211</td>\n",
       "      <td>-0.013722</td>\n",
       "      <td>-0.031620</td>\n",
       "      <td>0.031620</td>\n",
       "      <td>-0.045557</td>\n",
       "    </tr>\n",
       "    <tr>\n",
       "      <th>toCoupon_GEQ5min</th>\n",
       "      <td>NaN</td>\n",
       "      <td>NaN</td>\n",
       "      <td>NaN</td>\n",
       "      <td>NaN</td>\n",
       "      <td>NaN</td>\n",
       "      <td>NaN</td>\n",
       "      <td>NaN</td>\n",
       "      <td>NaN</td>\n",
       "    </tr>\n",
       "    <tr>\n",
       "      <th>toCoupon_GEQ15min</th>\n",
       "      <td>-0.155332</td>\n",
       "      <td>0.078211</td>\n",
       "      <td>NaN</td>\n",
       "      <td>1.000000</td>\n",
       "      <td>0.324984</td>\n",
       "      <td>-0.303533</td>\n",
       "      <td>0.303533</td>\n",
       "      <td>-0.081602</td>\n",
       "    </tr>\n",
       "    <tr>\n",
       "      <th>toCoupon_GEQ25min</th>\n",
       "      <td>-0.216254</td>\n",
       "      <td>-0.013722</td>\n",
       "      <td>NaN</td>\n",
       "      <td>0.324984</td>\n",
       "      <td>1.000000</td>\n",
       "      <td>-0.192319</td>\n",
       "      <td>0.192319</td>\n",
       "      <td>-0.103633</td>\n",
       "    </tr>\n",
       "    <tr>\n",
       "      <th>direction_same</th>\n",
       "      <td>0.097085</td>\n",
       "      <td>-0.031620</td>\n",
       "      <td>NaN</td>\n",
       "      <td>-0.303533</td>\n",
       "      <td>-0.192319</td>\n",
       "      <td>1.000000</td>\n",
       "      <td>-1.000000</td>\n",
       "      <td>0.014570</td>\n",
       "    </tr>\n",
       "    <tr>\n",
       "      <th>direction_opp</th>\n",
       "      <td>-0.097085</td>\n",
       "      <td>0.031620</td>\n",
       "      <td>NaN</td>\n",
       "      <td>0.303533</td>\n",
       "      <td>0.192319</td>\n",
       "      <td>-1.000000</td>\n",
       "      <td>1.000000</td>\n",
       "      <td>-0.014570</td>\n",
       "    </tr>\n",
       "    <tr>\n",
       "      <th>Y</th>\n",
       "      <td>0.061240</td>\n",
       "      <td>-0.045557</td>\n",
       "      <td>NaN</td>\n",
       "      <td>-0.081602</td>\n",
       "      <td>-0.103633</td>\n",
       "      <td>0.014570</td>\n",
       "      <td>-0.014570</td>\n",
       "      <td>1.000000</td>\n",
       "    </tr>\n",
       "  </tbody>\n",
       "</table>\n",
       "</div>"
      ],
      "text/plain": [
       "                   temperature  has_children  toCoupon_GEQ5min  \\\n",
       "temperature           1.000000     -0.019716               NaN   \n",
       "has_children         -0.019716      1.000000               NaN   \n",
       "toCoupon_GEQ5min           NaN           NaN               NaN   \n",
       "toCoupon_GEQ15min    -0.155332      0.078211               NaN   \n",
       "toCoupon_GEQ25min    -0.216254     -0.013722               NaN   \n",
       "direction_same        0.097085     -0.031620               NaN   \n",
       "direction_opp        -0.097085      0.031620               NaN   \n",
       "Y                     0.061240     -0.045557               NaN   \n",
       "\n",
       "                   toCoupon_GEQ15min  toCoupon_GEQ25min  direction_same  \\\n",
       "temperature                -0.155332          -0.216254        0.097085   \n",
       "has_children                0.078211          -0.013722       -0.031620   \n",
       "toCoupon_GEQ5min                 NaN                NaN             NaN   \n",
       "toCoupon_GEQ15min           1.000000           0.324984       -0.303533   \n",
       "toCoupon_GEQ25min           0.324984           1.000000       -0.192319   \n",
       "direction_same             -0.303533          -0.192319        1.000000   \n",
       "direction_opp               0.303533           0.192319       -1.000000   \n",
       "Y                          -0.081602          -0.103633        0.014570   \n",
       "\n",
       "                   direction_opp         Y  \n",
       "temperature            -0.097085  0.061240  \n",
       "has_children            0.031620 -0.045557  \n",
       "toCoupon_GEQ5min             NaN       NaN  \n",
       "toCoupon_GEQ15min       0.303533 -0.081602  \n",
       "toCoupon_GEQ25min       0.192319 -0.103633  \n",
       "direction_same         -1.000000  0.014570  \n",
       "direction_opp           1.000000 -0.014570  \n",
       "Y                      -0.014570  1.000000  "
      ]
     },
     "metadata": {},
     "output_type": "display_data"
    },
    {
     "data": {
      "text/plain": [
       "'Missing values: '"
      ]
     },
     "metadata": {},
     "output_type": "display_data"
    },
    {
     "data": {
      "text/plain": [
       "destination                 0\n",
       "passanger                   0\n",
       "weather                     0\n",
       "temperature                 0\n",
       "time                        0\n",
       "coupon                      0\n",
       "expiration                  0\n",
       "gender                      0\n",
       "age                         0\n",
       "maritalStatus               0\n",
       "has_children                0\n",
       "education                   0\n",
       "occupation                  0\n",
       "income                      0\n",
       "car                     12576\n",
       "Bar                       107\n",
       "CoffeeHouse               217\n",
       "CarryAway                 151\n",
       "RestaurantLessThan20      130\n",
       "Restaurant20To50          189\n",
       "toCoupon_GEQ5min            0\n",
       "toCoupon_GEQ15min           0\n",
       "toCoupon_GEQ25min           0\n",
       "direction_same              0\n",
       "direction_opp               0\n",
       "Y                           0\n",
       "dtype: int64"
      ]
     },
     "metadata": {},
     "output_type": "display_data"
    },
    {
     "name": "stdout",
     "output_type": "stream",
     "text": [
      "Duplicate rows:  74\n"
     ]
    }
   ],
   "source": [
    "#to get basic datatype information\n",
    "data.info()\n",
    "\n",
    "#age : typically should be of datatype numeric say int64, but since here there might be a miss in collecting the exact age of some drivers, there seems to be data saying above 50 etc..\n",
    "#income : should be of datatype int64 or float64 as it is of kind numeric, but since there is range along with dollar signs the datatype object is used\n",
    "#passanger : column name passanger is missspelled, it should be passenger\n",
    "\n",
    "#the correlation between the nemeric columns in the dataset\n",
    "display(data.corr(method='pearson', numeric_only=True))\n",
    "\n",
    "#to get descriptive statistics of a DataFrame or Series\n",
    "#data.describe()  \n",
    "\n",
    "#find missing values per column\n",
    "data_missing_values = data.isnull().sum()\n",
    "display(\"Missing values: \" , data_missing_values)\n",
    "\n",
    "#Missing data: With approximately 99% of the values for 'car' being blank it isn't really adding much value to the dataset. The other columns missing values are missing so few values (i.e. less than 2%) that I am assuming this will not have a significant impact overall\n",
    "\n",
    "#find for duplicate rows\n",
    "data_duplicates = data.duplicated().sum()\n",
    "print(\"Duplicate rows: \", data_duplicates)\n",
    "\n",
    "#Duplicates: There are 74 duplicate rows. This is survey, and it is quite possible that there will be duplicates. We will keep the duplicates as we are interested in every response"
   ]
  },
  {
   "cell_type": "code",
   "execution_count": 10,
   "metadata": {
    "id": "6CwL6oWj_qRH"
   },
   "outputs": [
    {
     "data": {
      "text/plain": [
       "<Axes: >"
      ]
     },
     "execution_count": 10,
     "metadata": {},
     "output_type": "execute_result"
    },
    {
     "data": {
      "image/png": "[encoded data removed]",
      "text/plain": [
       "<Figure size 1000x800 with 2 Axes>"
      ]
     },
     "metadata": {},
     "output_type": "display_data"
    }
   ],
   "source": [
    "#Create the heatmap using Seaborn\n",
    "# Adjust figure size as needed\n",
    "plot_data = data.corr(method='pearson', numeric_only=True)\n",
    "\n",
    "plt.figure(figsize=(10, 8))\n",
    "sns.heatmap(plot_data, annot=True, cmap=\"coolwarm\", fmt=\".2f\", linewidths=.5)"
   ]
  },
  {
   "cell_type": "markdown",
   "metadata": {
    "id": "bSdVSpYB_qRH"
   },
   "source": [
    "3. Decide what to do about your missing data -- drop, replace, other..."
   ]
  },
  {
   "cell_type": "code",
   "execution_count": 276,
   "metadata": {
    "id": "tyvoAC5F_qRI"
   },
   "outputs": [
    {
     "name": "stdout",
     "output_type": "stream",
     "text": [
      "Before dropping Car column (12684, 25)\n",
      "Column 'car' not found. Available columns: Index(['destination', 'passanger', 'weather', 'temperature', 'time', 'coupon',\n",
      "       'expiration', 'gender', 'age', 'maritalStatus', 'has_children',\n",
      "       'education', 'occupation', 'income', 'Bar', 'CoffeeHouse', 'CarryAway',\n",
      "       'RestaurantLessThan20', 'Restaurant20To50', 'toCoupon_GEQ5min',\n",
      "       'toCoupon_GEQ15min', 'toCoupon_GEQ25min', 'direction_same',\n",
      "       'direction_opp', 'Y'],\n",
      "      dtype='object')\n",
      "(12684, 25)\n"
     ]
    }
   ],
   "source": [
    "# Drop the car column\n",
    "print(\"Before dropping Car column\", data.shape)\n",
    "# Check if 'car' column exists before dropping\n",
    "if 'car' in data.columns:\n",
    "    data = data.drop(columns=[\"car\"])\n",
    "else:\n",
    "    print(\"Column 'car' not found. Available columns:\", data.columns)\n",
    "\n",
    "print(\"After dropping Car column\", data.shape)"
   ]
  },
  {
   "cell_type": "markdown",
   "metadata": {
    "id": "YE6oJbXd_qRI"
   },
   "source": [
    "4. What proportion of the total observations chose to accept the coupon?\n",
    "\n"
   ]
  },
  {
   "cell_type": "code",
   "execution_count": 287,
   "metadata": {
    "id": "86GGqBTv_qRI"
   },
   "outputs": [
    {
     "name": "stdout",
     "output_type": "stream",
     "text": [
      "Total observations chose to accept the coupon count are :  7210\n",
      "<class 'pandas.core.series.Series'>\n",
      "Total observations chose to accept the coupon proporation is:  56.84 %\n"
     ]
    }
   ],
   "source": [
    "# Evaluate value_counts on 'Y' column\n",
    "print(\"Total observations chose to accept the coupon count are : \", data[\"Y\"].value_counts().values[0])\n",
    "\n",
    "#just to check what is the retrurn type\n",
    "print(type(data[\"Y\"].value_counts()))\n",
    "\n",
    "# coupons accepted:  7210\n",
    "# coupons total:  12684\n",
    "proportion_acceptance = ((data[\"Y\"].value_counts().values[0]/data[\"Y\"].value_counts().sum())*100).round(2)\n",
    "print(\"Total observations chose to accept the coupon proporation is: \", proportion_acceptance,\"%\")\n",
    "\n",
    "#Proportion of the total observations that chose to accept the coupon:  0.5684326710816777"
   ]
  },
  {
   "cell_type": "markdown",
   "metadata": {
    "id": "vflz0DoE_qRI"
   },
   "source": [
    "5. Use a bar plot to visualize the `coupon` column."
   ]
  },
  {
   "cell_type": "code",
   "execution_count": 20,
   "metadata": {
    "id": "dHFh3E45_qRI"
   },
   "outputs": [
    {
     "name": "stderr",
     "output_type": "stream",
     "text": [
      "/tmp/ipykernel_121/4110278427.py:5: FutureWarning: \n",
      "\n",
      "Passing `palette` without assigning `hue` is deprecated and will be removed in v0.14.0. Assign the `x` variable to `hue` and set `legend=False` for the same effect.\n",
      "\n",
      "  sns.barplot(x=coupon_counts.index, y=coupon_counts.values, palette=\"viridis\")\n"
     ]
    },
    {
     "data": {
      "image/png": "[encoded data removed]",
      "text/plain": [
       "<Figure size 1000x600 with 1 Axes>"
      ]
     },
     "metadata": {},
     "output_type": "display_data"
    }
   ],
   "source": [
    "coupon_counts = data[\"coupon\"].value_counts()\n",
    "\n",
    "plt.figure(figsize=(10,6)) \n",
    "#take the count of each coupon value so the counts can be used for Y and X can be the coupon values.\n",
    "sns.barplot(x=coupon_counts.index, y=coupon_counts.values, palette=\"viridis\")\n",
    "plt.title(\"Coupon Type Counts\")\n",
    "plt.xlabel(\"Coupon Type\")\n",
    "plt.ylabel(\"Count\")\n",
    "plt.xticks(rotation=45)  \n",
    "plt.show()\n",
    "\n",
    "#Based on the chart, even though most coupons are sent for CoffeeHouse, their acceptance rate is lower compared to other types of coupons.\n",
    "#Bar coupons are sent less often, but they also have a relatively low acceptance rate.\n",
    "#In contrast, RestaurantLessThan20 and CarryAway coupons show a higher acceptance rate than the others."
   ]
  },
  {
   "cell_type": "markdown",
   "metadata": {
    "id": "Qw4lCyx2_qRI"
   },
   "source": [
    "6. Use a histogram to visualize the temperature column."
   ]
  },
  {
   "cell_type": "code",
   "execution_count": 302,
   "metadata": {
    "id": "Yg9Anv71_qRI"
   },
   "outputs": [
    {
     "data": {
      "image/png": "[encoded data removed]",
      "text/plain": [
       "<Figure size 600x600 with 1 Axes>"
      ]
     },
     "metadata": {},
     "output_type": "display_data"
    }
   ],
   "source": [
    "#using plotly to plot the histogram of the temperature column\n",
    "plt.figure(figsize=(6,6))\n",
    "plt.hist(data['temperature'], bins=20, color='skyblue', edgecolor='black')\n",
    "plt.title('Temperature Distribution')\n",
    "plt.xlabel('Temperature')\n",
    "plt.ylabel('Frequency')\n",
    "plt.show()"
   ]
  },
  {
   "cell_type": "code",
   "execution_count": null,
   "metadata": {
    "id": "zLtOaJQk_qRI"
   },
   "outputs": [],
   "source": []
  },
  {
   "cell_type": "code",
   "execution_count": null,
   "metadata": {
    "id": "7GBHZKBp_qRJ"
   },
   "outputs": [],
   "source": []
  },
  {
   "cell_type": "code",
   "execution_count": null,
   "metadata": {
    "id": "Y5nBUA-j_qRJ"
   },
   "outputs": [],
   "source": []
  },
  {
   "cell_type": "code",
   "execution_count": null,
   "metadata": {
    "id": "ShcUC-Vm_qRJ"
   },
   "outputs": [],
   "source": []
  },
  {
   "cell_type": "markdown",
   "metadata": {
    "id": "FupfgeJk_qRJ"
   },
   "source": [
    "**Investigating the Bar Coupons**\n",
    "\n",
    "Now, we will lead you through an exploration of just the bar related coupons.  \n",
    "\n",
    "1. Create a new `DataFrame` that contains just the bar coupons.\n"
   ]
  },
  {
   "cell_type": "code",
   "execution_count": 36,
   "metadata": {
    "id": "tMBlWuGq_qRJ"
   },
   "outputs": [
    {
     "data": {
      "text/html": [
       "<div>\n",
       "<style scoped>\n",
       "    .dataframe tbody tr th:only-of-type {\n",
       "        vertical-align: middle;\n",
       "    }\n",
       "\n",
       "    .dataframe tbody tr th {\n",
       "        vertical-align: top;\n",
       "    }\n",
       "\n",
       "    .dataframe thead th {\n",
       "        text-align: right;\n",
       "    }\n",
       "</style>\n",
       "<table border=\"1\" class=\"dataframe\">\n",
       "  <thead>\n",
       "    <tr style=\"text-align: center;\">\n",
       "      <th></th>\n",
       "      <th>destination</th>\n",
       "      <th>passanger</th>\n",
       "      <th>weather</th>\n",
       "      <th>temperature</th>\n",
       "      <th>time</th>\n",
       "      <th>coupon</th>\n",
       "      <th>expiration</th>\n",
       "      <th>gender</th>\n",
       "      <th>age</th>\n",
       "      <th>maritalStatus</th>\n",
       "      <th>has_children</th>\n",
       "      <th>education</th>\n",
       "      <th>occupation</th>\n",
       "      <th>income</th>\n",
       "      <th>car</th>\n",
       "      <th>Bar</th>\n",
       "      <th>CoffeeHouse</th>\n",
       "      <th>CarryAway</th>\n",
       "      <th>RestaurantLessThan20</th>\n",
       "      <th>Restaurant20To50</th>\n",
       "      <th>toCoupon_GEQ5min</th>\n",
       "      <th>toCoupon_GEQ15min</th>\n",
       "      <th>toCoupon_GEQ25min</th>\n",
       "      <th>direction_same</th>\n",
       "      <th>direction_opp</th>\n",
       "      <th>Y</th>\n",
       "    </tr>\n",
       "  </thead>\n",
       "  <tbody>\n",
       "    <tr>\n",
       "      <th>9</th>\n",
       "      <td>No Urgent Place</td>\n",
       "      <td>Kid(s)</td>\n",
       "      <td>Sunny</td>\n",
       "      <td>80</td>\n",
       "      <td>10AM</td>\n",
       "      <td>Bar</td>\n",
       "      <td>1d</td>\n",
       "      <td>Female</td>\n",
       "      <td>21</td>\n",
       "      <td>Unmarried partner</td>\n",
       "      <td>1</td>\n",
       "      <td>Some college - no degree</td>\n",
       "      <td>Unemployed</td>\n",
       "      <td>$37500 - $49999</td>\n",
       "      <td>NaN</td>\n",
       "      <td>never</td>\n",
       "      <td>never</td>\n",
       "      <td>NaN</td>\n",
       "      <td>4~8</td>\n",
       "      <td>1~3</td>\n",
       "      <td>1</td>\n",
       "      <td>1</td>\n",
       "      <td>0</td>\n",
       "      <td>0</td>\n",
       "      <td>1</td>\n",
       "      <td>0</td>\n",
       "    </tr>\n",
       "    <tr>\n",
       "      <th>13</th>\n",
       "      <td>Home</td>\n",
       "      <td>Alone</td>\n",
       "      <td>Sunny</td>\n",
       "      <td>55</td>\n",
       "      <td>6PM</td>\n",
       "      <td>Bar</td>\n",
       "      <td>1d</td>\n",
       "      <td>Female</td>\n",
       "      <td>21</td>\n",
       "      <td>Unmarried partner</td>\n",
       "      <td>1</td>\n",
       "      <td>Some college - no degree</td>\n",
       "      <td>Unemployed</td>\n",
       "      <td>$37500 - $49999</td>\n",
       "      <td>NaN</td>\n",
       "      <td>never</td>\n",
       "      <td>never</td>\n",
       "      <td>NaN</td>\n",
       "      <td>4~8</td>\n",
       "      <td>1~3</td>\n",
       "      <td>1</td>\n",
       "      <td>0</td>\n",
       "      <td>0</td>\n",
       "      <td>1</td>\n",
       "      <td>0</td>\n",
       "      <td>1</td>\n",
       "    </tr>\n",
       "    <tr>\n",
       "      <th>17</th>\n",
       "      <td>Work</td>\n",
       "      <td>Alone</td>\n",
       "      <td>Sunny</td>\n",
       "      <td>55</td>\n",
       "      <td>7AM</td>\n",
       "      <td>Bar</td>\n",
       "      <td>1d</td>\n",
       "      <td>Female</td>\n",
       "      <td>21</td>\n",
       "      <td>Unmarried partner</td>\n",
       "      <td>1</td>\n",
       "      <td>Some college - no degree</td>\n",
       "      <td>Unemployed</td>\n",
       "      <td>$37500 - $49999</td>\n",
       "      <td>NaN</td>\n",
       "      <td>never</td>\n",
       "      <td>never</td>\n",
       "      <td>NaN</td>\n",
       "      <td>4~8</td>\n",
       "      <td>1~3</td>\n",
       "      <td>1</td>\n",
       "      <td>1</td>\n",
       "      <td>1</td>\n",
       "      <td>0</td>\n",
       "      <td>1</td>\n",
       "      <td>0</td>\n",
       "    </tr>\n",
       "    <tr>\n",
       "      <th>24</th>\n",
       "      <td>No Urgent Place</td>\n",
       "      <td>Friend(s)</td>\n",
       "      <td>Sunny</td>\n",
       "      <td>80</td>\n",
       "      <td>10AM</td>\n",
       "      <td>Bar</td>\n",
       "      <td>1d</td>\n",
       "      <td>Male</td>\n",
       "      <td>21</td>\n",
       "      <td>Single</td>\n",
       "      <td>0</td>\n",
       "      <td>Bachelors degree</td>\n",
       "      <td>Architecture &amp; Engineering</td>\n",
       "      <td>$62500 - $74999</td>\n",
       "      <td>NaN</td>\n",
       "      <td>never</td>\n",
       "      <td>less1</td>\n",
       "      <td>4~8</td>\n",
       "      <td>4~8</td>\n",
       "      <td>less1</td>\n",
       "      <td>1</td>\n",
       "      <td>0</td>\n",
       "      <td>0</td>\n",
       "      <td>0</td>\n",
       "      <td>1</td>\n",
       "      <td>1</td>\n",
       "    </tr>\n",
       "    <tr>\n",
       "      <th>35</th>\n",
       "      <td>Home</td>\n",
       "      <td>Alone</td>\n",
       "      <td>Sunny</td>\n",
       "      <td>55</td>\n",
       "      <td>6PM</td>\n",
       "      <td>Bar</td>\n",
       "      <td>1d</td>\n",
       "      <td>Male</td>\n",
       "      <td>21</td>\n",
       "      <td>Single</td>\n",
       "      <td>0</td>\n",
       "      <td>Bachelors degree</td>\n",
       "      <td>Architecture &amp; Engineering</td>\n",
       "      <td>$62500 - $74999</td>\n",
       "      <td>NaN</td>\n",
       "      <td>never</td>\n",
       "      <td>less1</td>\n",
       "      <td>4~8</td>\n",
       "      <td>4~8</td>\n",
       "      <td>less1</td>\n",
       "      <td>1</td>\n",
       "      <td>0</td>\n",
       "      <td>0</td>\n",
       "      <td>1</td>\n",
       "      <td>0</td>\n",
       "      <td>1</td>\n",
       "    </tr>\n",
       "    <tr>\n",
       "      <th>...</th>\n",
       "      <td>...</td>\n",
       "      <td>...</td>\n",
       "      <td>...</td>\n",
       "      <td>...</td>\n",
       "      <td>...</td>\n",
       "      <td>...</td>\n",
       "      <td>...</td>\n",
       "      <td>...</td>\n",
       "      <td>...</td>\n",
       "      <td>...</td>\n",
       "      <td>...</td>\n",
       "      <td>...</td>\n",
       "      <td>...</td>\n",
       "      <td>...</td>\n",
       "      <td>...</td>\n",
       "      <td>...</td>\n",
       "      <td>...</td>\n",
       "      <td>...</td>\n",
       "      <td>...</td>\n",
       "      <td>...</td>\n",
       "      <td>...</td>\n",
       "      <td>...</td>\n",
       "      <td>...</td>\n",
       "      <td>...</td>\n",
       "      <td>...</td>\n",
       "      <td>...</td>\n",
       "    </tr>\n",
       "    <tr>\n",
       "      <th>12663</th>\n",
       "      <td>No Urgent Place</td>\n",
       "      <td>Friend(s)</td>\n",
       "      <td>Sunny</td>\n",
       "      <td>80</td>\n",
       "      <td>10PM</td>\n",
       "      <td>Bar</td>\n",
       "      <td>1d</td>\n",
       "      <td>Male</td>\n",
       "      <td>26</td>\n",
       "      <td>Single</td>\n",
       "      <td>0</td>\n",
       "      <td>Bachelors degree</td>\n",
       "      <td>Sales &amp; Related</td>\n",
       "      <td>$75000 - $87499</td>\n",
       "      <td>NaN</td>\n",
       "      <td>never</td>\n",
       "      <td>never</td>\n",
       "      <td>1~3</td>\n",
       "      <td>4~8</td>\n",
       "      <td>1~3</td>\n",
       "      <td>1</td>\n",
       "      <td>1</td>\n",
       "      <td>0</td>\n",
       "      <td>0</td>\n",
       "      <td>1</td>\n",
       "      <td>0</td>\n",
       "    </tr>\n",
       "    <tr>\n",
       "      <th>12664</th>\n",
       "      <td>No Urgent Place</td>\n",
       "      <td>Friend(s)</td>\n",
       "      <td>Sunny</td>\n",
       "      <td>55</td>\n",
       "      <td>10PM</td>\n",
       "      <td>Bar</td>\n",
       "      <td>2h</td>\n",
       "      <td>Male</td>\n",
       "      <td>26</td>\n",
       "      <td>Single</td>\n",
       "      <td>0</td>\n",
       "      <td>Bachelors degree</td>\n",
       "      <td>Sales &amp; Related</td>\n",
       "      <td>$75000 - $87499</td>\n",
       "      <td>NaN</td>\n",
       "      <td>never</td>\n",
       "      <td>never</td>\n",
       "      <td>1~3</td>\n",
       "      <td>4~8</td>\n",
       "      <td>1~3</td>\n",
       "      <td>1</td>\n",
       "      <td>1</td>\n",
       "      <td>0</td>\n",
       "      <td>0</td>\n",
       "      <td>1</td>\n",
       "      <td>0</td>\n",
       "    </tr>\n",
       "    <tr>\n",
       "      <th>12667</th>\n",
       "      <td>No Urgent Place</td>\n",
       "      <td>Alone</td>\n",
       "      <td>Rainy</td>\n",
       "      <td>55</td>\n",
       "      <td>10AM</td>\n",
       "      <td>Bar</td>\n",
       "      <td>1d</td>\n",
       "      <td>Male</td>\n",
       "      <td>26</td>\n",
       "      <td>Single</td>\n",
       "      <td>0</td>\n",
       "      <td>Bachelors degree</td>\n",
       "      <td>Sales &amp; Related</td>\n",
       "      <td>$75000 - $87499</td>\n",
       "      <td>NaN</td>\n",
       "      <td>never</td>\n",
       "      <td>never</td>\n",
       "      <td>1~3</td>\n",
       "      <td>4~8</td>\n",
       "      <td>1~3</td>\n",
       "      <td>1</td>\n",
       "      <td>1</td>\n",
       "      <td>0</td>\n",
       "      <td>0</td>\n",
       "      <td>1</td>\n",
       "      <td>0</td>\n",
       "    </tr>\n",
       "    <tr>\n",
       "      <th>12670</th>\n",
       "      <td>No Urgent Place</td>\n",
       "      <td>Partner</td>\n",
       "      <td>Rainy</td>\n",
       "      <td>55</td>\n",
       "      <td>6PM</td>\n",
       "      <td>Bar</td>\n",
       "      <td>2h</td>\n",
       "      <td>Male</td>\n",
       "      <td>26</td>\n",
       "      <td>Single</td>\n",
       "      <td>0</td>\n",
       "      <td>Bachelors degree</td>\n",
       "      <td>Sales &amp; Related</td>\n",
       "      <td>$75000 - $87499</td>\n",
       "      <td>NaN</td>\n",
       "      <td>never</td>\n",
       "      <td>never</td>\n",
       "      <td>1~3</td>\n",
       "      <td>4~8</td>\n",
       "      <td>1~3</td>\n",
       "      <td>1</td>\n",
       "      <td>1</td>\n",
       "      <td>0</td>\n",
       "      <td>0</td>\n",
       "      <td>1</td>\n",
       "      <td>0</td>\n",
       "    </tr>\n",
       "    <tr>\n",
       "      <th>12682</th>\n",
       "      <td>Work</td>\n",
       "      <td>Alone</td>\n",
       "      <td>Snowy</td>\n",
       "      <td>30</td>\n",
       "      <td>7AM</td>\n",
       "      <td>Bar</td>\n",
       "      <td>1d</td>\n",
       "      <td>Male</td>\n",
       "      <td>26</td>\n",
       "      <td>Single</td>\n",
       "      <td>0</td>\n",
       "      <td>Bachelors degree</td>\n",
       "      <td>Sales &amp; Related</td>\n",
       "      <td>$75000 - $87499</td>\n",
       "      <td>NaN</td>\n",
       "      <td>never</td>\n",
       "      <td>never</td>\n",
       "      <td>1~3</td>\n",
       "      <td>4~8</td>\n",
       "      <td>1~3</td>\n",
       "      <td>1</td>\n",
       "      <td>1</td>\n",
       "      <td>1</td>\n",
       "      <td>0</td>\n",
       "      <td>1</td>\n",
       "      <td>0</td>\n",
       "    </tr>\n",
       "  </tbody>\n",
       "</table>\n",
       "<p>2017 rows × 26 columns</p>\n",
       "</div>"
      ],
      "text/plain": [
       "        destination    passanger  weather  temperature  time coupon  \\\n",
       "9      No Urgent Place     Kid(s)   Sunny      80       10AM   Bar    \n",
       "13                Home      Alone   Sunny      55        6PM   Bar    \n",
       "17                Work      Alone   Sunny      55        7AM   Bar    \n",
       "24     No Urgent Place  Friend(s)   Sunny      80       10AM   Bar    \n",
       "35                Home      Alone   Sunny      55        6PM   Bar    \n",
       "...                ...        ...     ...          ...   ...    ...   \n",
       "12663  No Urgent Place  Friend(s)   Sunny      80       10PM   Bar    \n",
       "12664  No Urgent Place  Friend(s)   Sunny      55       10PM   Bar    \n",
       "12667  No Urgent Place      Alone   Rainy      55       10AM   Bar    \n",
       "12670  No Urgent Place    Partner   Rainy      55        6PM   Bar    \n",
       "12682             Work      Alone   Snowy      30        7AM   Bar    \n",
       "\n",
       "      expiration  gender age   maritalStatus     has_children  \\\n",
       "9         1d      Female  21  Unmarried partner        1        \n",
       "13        1d      Female  21  Unmarried partner        1        \n",
       "17        1d      Female  21  Unmarried partner        1        \n",
       "24        1d        Male  21             Single        0        \n",
       "35        1d        Male  21             Single        0        \n",
       "...          ...     ...  ..                ...           ...   \n",
       "12663     1d        Male  26             Single        0        \n",
       "12664     2h        Male  26             Single        0        \n",
       "12667     1d        Male  26             Single        0        \n",
       "12670     2h        Male  26             Single        0        \n",
       "12682     1d        Male  26             Single        0        \n",
       "\n",
       "              education                  occupation              income       \\\n",
       "9      Some college - no degree                  Unemployed  $37500 - $49999   \n",
       "13     Some college - no degree                  Unemployed  $37500 - $49999   \n",
       "17     Some college - no degree                  Unemployed  $37500 - $49999   \n",
       "24             Bachelors degree  Architecture & Engineering  $62500 - $74999   \n",
       "35             Bachelors degree  Architecture & Engineering  $62500 - $74999   \n",
       "...                         ...                         ...              ...   \n",
       "12663          Bachelors degree             Sales & Related  $75000 - $87499   \n",
       "12664          Bachelors degree             Sales & Related  $75000 - $87499   \n",
       "12667          Bachelors degree             Sales & Related  $75000 - $87499   \n",
       "12670          Bachelors degree             Sales & Related  $75000 - $87499   \n",
       "12682          Bachelors degree             Sales & Related  $75000 - $87499   \n",
       "\n",
       "      car   Bar   CoffeeHouse CarryAway RestaurantLessThan20 Restaurant20To50  \\\n",
       "9      NaN  never     never       NaN            4~8                 1~3        \n",
       "13     NaN  never     never       NaN            4~8                 1~3        \n",
       "17     NaN  never     never       NaN            4~8                 1~3        \n",
       "24     NaN  never     less1       4~8            4~8               less1        \n",
       "35     NaN  never     less1       4~8            4~8               less1        \n",
       "...    ...    ...         ...       ...                  ...              ...   \n",
       "12663  NaN  never     never       1~3            4~8                 1~3        \n",
       "12664  NaN  never     never       1~3            4~8                 1~3        \n",
       "12667  NaN  never     never       1~3            4~8                 1~3        \n",
       "12670  NaN  never     never       1~3            4~8                 1~3        \n",
       "12682  NaN  never     never       1~3            4~8                 1~3        \n",
       "\n",
       "       toCoupon_GEQ5min  toCoupon_GEQ15min  toCoupon_GEQ25min  direction_same  \\\n",
       "9              1                 1                  0                 0         \n",
       "13             1                 0                  0                 1         \n",
       "17             1                 1                  1                 0         \n",
       "24             1                 0                  0                 0         \n",
       "35             1                 0                  0                 1         \n",
       "...                 ...                ...                ...             ...   \n",
       "12663          1                 1                  0                 0         \n",
       "12664          1                 1                  0                 0         \n",
       "12667          1                 1                  0                 0         \n",
       "12670          1                 1                  0                 0         \n",
       "12682          1                 1                  1                 0         \n",
       "\n",
       "       direction_opp  Y  \n",
       "9            1        0  \n",
       "13           0        1  \n",
       "17           1        0  \n",
       "24           1        1  \n",
       "35           0        1  \n",
       "...              ... ..  \n",
       "12663        1        0  \n",
       "12664        1        0  \n",
       "12667        1        0  \n",
       "12670        1        0  \n",
       "12682        1        0  \n",
       "\n",
       "[2017 rows x 26 columns]"
      ]
     },
     "execution_count": 36,
     "metadata": {},
     "output_type": "execute_result"
    }
   ],
   "source": [
    "data_bar = data[data[\"coupon\"] == \"Bar\"]\n",
    "data_bar"
   ]
  },
  {
   "cell_type": "markdown",
   "metadata": {
    "id": "8ue6uCqf_qRJ"
   },
   "source": [
    "2. What proportion of bar coupons were accepted?\n"
   ]
  },
  {
   "cell_type": "code",
   "execution_count": 99,
   "metadata": {
    "id": "hSdte8Mi_qRK"
   },
   "outputs": [
    {
     "name": "stdout",
     "output_type": "stream",
     "text": [
      "['Unmarried partner' 'Single' 'Married partner' 'Divorced' 'Widowed']\n",
      "Overall proportion of the coupon acceptance is :  41.0\n"
     ]
    },
    {
     "data": {
      "text/plain": [
       "maritalStatus\n",
       "Divorced              0.89\n",
       "Married partner      14.38\n",
       "Single               17.90\n",
       "Unmarried partner     7.49\n",
       "Widowed               0.35\n",
       "Name: Y, dtype: float64"
      ]
     },
     "metadata": {},
     "output_type": "display_data"
    },
    {
     "data": {
      "text/plain": [
       "<Axes: xlabel='maritalStatus'>"
      ]
     },
     "execution_count": 99,
     "metadata": {},
     "output_type": "execute_result"
    },
    {
     "data": {
      "image/png": "[encoded data removed]",
      "text/plain": [
       "<Figure size 640x480 with 1 Axes>"
      ]
     },
     "metadata": {},
     "output_type": "display_data"
    }
   ],
   "source": [
    "print(data_bar[\"maritalStatus\"].unique())\n",
    "#find the total number of accepted coupons for Bar dataframe\n",
    "coupon_accept = data_bar[data_bar[\"Y\"] == 1][\"Y\"].value_counts().values[0]\n",
    "\n",
    "#find the overall total of Y column (accept and reject)\n",
    "total_accpt_rej = data_bar[\"Y\"].value_counts().sum()\n",
    "\n",
    "#to find the acceptance ratio\n",
    "acceptance_ratio = (coupon_accept/total_accpt_rej * 100).round(2)\n",
    "print(\"Overall proportion of the coupon acceptance is : \" , acceptance_ratio)\n",
    "\n",
    "#the acceptance ratio is 41% for the bar coupons\n",
    "\n",
    "#Just to evaluate what marital status people are more interested in Bar coupons (to decide target audiance)\n",
    "#single and married partner folks are likely to accept the coupons\n",
    "accpt_data = data_bar[data_bar[\"Y\"] == 1]\n",
    "accpt_data_perent =(accpt_data.groupby(\"maritalStatus\")[\"Y\"].sum()/data_bar[\"Y\"].value_counts().sum()*100).round(2)\n",
    "display(accpt_data_perent)\n",
    "accpt_data_perent.plot(kind=\"bar\")\n"
   ]
  },
  {
   "cell_type": "markdown",
   "metadata": {
    "id": "85nA_iEi_qRK"
   },
   "source": [
    "3. Compare the acceptance rate between those who went to a bar 3 or fewer times a month to those who went more.\n"
   ]
  },
  {
   "cell_type": "code",
   "execution_count": 216,
   "metadata": {
    "id": "LBOrN-XM_qRK"
   },
   "outputs": [
    {
     "name": "stdout",
     "output_type": "stream",
     "text": [
      "['never' 'less1' '1~3' 'gt8' nan '4~8']\n",
      "Drivers acceptance rate who visit the Bar 3 or lesser times is :  37.06 %\n",
      "Drivers acceptance rate who visit the Bar more than 3 times is :  76.88 %\n"
     ]
    }
   ],
   "source": [
    "#unique values of Bar column\n",
    "print(data_bar['Bar'].unique())\n",
    "\n",
    "#to avoid any loss of original dataset using copy() method\n",
    "data_bar_copy = data_bar.copy()\n",
    "\n",
    "#find the mean of both the case, fewer or 3 times a month And more than 3 times a month\n",
    "#This filtering does not cosider any null/NaN values of Bar column\n",
    "data_bar_3_or_less = (data_bar_copy[data_bar_copy['Bar'].isin(['never', 'less1', '1~3'])][\"Y\"].mean() * 100).round(2)\n",
    "data_bar_more_than_3 = (data_bar_copy[data_bar_copy['Bar'].isin(['4~8', 'gt8'])][\"Y\"].mean()*100).round(2)\n",
    "\n",
    "print(\"Drivers acceptance rate who visit the Bar 3 or lesser times is : \", data_bar_3_or_less, \"%\")\n",
    "print(\"Drivers acceptance rate who visit the Bar more than 3 times is : \" , data_bar_more_than_3, \"%\")\n",
    "\n",
    "#the acceptance rate between the above two scnearios is as below\n",
    "#the bar coupon was accepted approximately 37% of the time by people who went to the bar 3 or fewer times a month\n",
    "#the bar coupon was accepted approximately 76% of the time by people who went to the bar more than 3 times a month"
   ]
  },
  {
   "cell_type": "markdown",
   "metadata": {
    "id": "RBgcQwH4_qRK"
   },
   "source": [
    "4. Compare the acceptance rate between drivers who go to a bar more than once a month and are over the age of 25 to the all others.  Is there a difference?\n"
   ]
  },
  {
   "cell_type": "code",
   "execution_count": 247,
   "metadata": {
    "id": "bf28bbeX_qRK"
   },
   "outputs": [
    {
     "name": "stdout",
     "output_type": "stream",
     "text": [
      "Acceptance Rate for drivers who go to a bar more than once a month and are over the age of 25 is  :  69.52 %\n",
      "Acceptance Rate for all others is : 33.5 %\n"
     ]
    }
   ],
   "source": [
    "#since the age column is object datatype and has singular values and also age group\n",
    "#and the age group below 25 is jsut two values, will use ~ with isin method to find all drivers\n",
    "#above age group 25 and have been to Bar more than once a month\n",
    "\n",
    "# Need to handle 'below21' and '50plus' values in the 'age' column - set 'below21' = 20 and '50plus' = 51\n",
    "# Add new column 'age_num' with numeric values for age\n",
    "data[\"age_num\"] = data[\"age\"].replace({'below21': 20, '50plus': 51}).astype(int)\n",
    "\n",
    "# Refresh bar coupon slice to incorporate age_numeric column\n",
    "data_bar_coupon = data[data[\"coupon\"] == \"Bar\"]\n",
    "\n",
    "# Filter the dataset for drivers who go to a bar more than once a month and are over the age of 25 and calculate acceptance rate\n",
    "data_target_group = (data_bar_coupon[(data_bar_coupon[\"Bar\"].isin(['1~3', '4~8', 'gt8'])) & (data_bar_coupon[\"age_num\"] > 25)][\"Y\"].mean()*100).round(2)\n",
    "\n",
    "# Filter the dataset for all others and calculate acceptance rate\n",
    "data_other_group = (data_bar_coupon[~((data_bar_coupon[\"Bar\"].isin(['1~3', '4~8', 'gt8'])) & (data_bar_coupon[\"age_num\"] > 25))][\"Y\"].mean()*100).round(2)\n",
    "\n",
    "print(\"Acceptance Rate for drivers who go to a bar more than once a month and are over the age of 25 is  : \", data_target_group, \"%\")\n",
    "print(\"Acceptance Rate for all others is :\", data_other_group, \"%\")"
   ]
  },
  {
   "cell_type": "markdown",
   "metadata": {
    "id": "S4RKT4PJ_qRK"
   },
   "source": [
    "5. Use the same process to compare the acceptance rate between drivers who go to bars more than once a month and had passengers that were not a kid and had occupations other than farming, fishing, or forestry.\n"
   ]
  },
  {
   "cell_type": "code",
   "execution_count": 245,
   "metadata": {
    "id": "sENaI2Tg_qRK"
   },
   "outputs": [
    {
     "name": "stdout",
     "output_type": "stream",
     "text": [
      "Acceptance Rate for specified group is:  71.32 %\n",
      "Acceptance Rate for all others is : 56.19 %\n"
     ]
    }
   ],
   "source": [
    "#based on given condition filtering the data\n",
    "data_filtered = data_bar_coupon[(data_bar_coupon[\"Bar\"].isin(['1~3', 'gt8', '4~8'])) & \n",
    "                             (data_bar_coupon['passanger'] != 'Kid(s)') & \n",
    "                             (~data_bar_coupon['occupation'].isin(['Farming Fishing & Forestry']))]\n",
    "acceptance_rate_data_filtered = (data_filtered[\"Y\"].mean()*100).round(2)\n",
    "\n",
    "print(\"Acceptance Rate for specified group is: \" , acceptance_rate_data_filtered, \"%\")\n",
    "\n",
    "# Fix: Use the data_filtered DataFrame to get indices, not the mean value\n",
    "acceptance_rate_others = (data[~data.index.isin(data_filtered.index)]['Y'].mean()*100).round(2)\n",
    "\n",
    "print('Acceptance Rate for all others is :', acceptance_rate_others, \"%\")\n",
    "\n",
    "#The bar coupon was accepted approximately is: \",acceptance_rate_data_filtered ,\"% of the time by drivers who go to the bar more than once a month, had passengers that were not a kid, and had occupations other than farming, fishing, or forestry\n",
    "#\"The bar coupon was accepted approximately is: \",acceptance_rate_others,\"% of the time by all other drivers"
   ]
  },
  {
   "cell_type": "markdown",
   "metadata": {
    "id": "n2LIUTil_qRK"
   },
   "source": [
    "6. Compare the acceptance rates between those drivers who:\n",
    "\n",
    "- go to bars more than once a month, had passengers that were not a kid, and were not widowed *OR*\n",
    "- go to bars more than once a month and are under the age of 30 *OR*\n",
    "- go to cheap restaurants more than 4 times a month and income is less than 50K.\n",
    "\n"
   ]
  },
  {
   "cell_type": "code",
   "execution_count": 251,
   "metadata": {
    "id": "aK_wEzx7_qRK"
   },
   "outputs": [
    {
     "name": "stdout",
     "output_type": "stream",
     "text": [
      "Condition 1 - acceptance rate:  0.7132486388384754\n",
      "Condition 2 - acceptance rate:  0.7217391304347827\n",
      "Condition 3 - acceptance rate:  0.45348837209302323\n"
     ]
    }
   ],
   "source": [
    "# Filter based on the conditions provided\n",
    "# Condition 1: Go to bars more than once a month, had passengers that were not a kid, and were not widowed\n",
    "condition1 = (data_bar_coupon['Bar'].isin(['1~3', '4~8', 'gt8'])) & (data_bar_coupon['passanger'] != 'Kid(s)') & (data_bar_coupon['maritalStatus'] != 'Widowed')\n",
    "    \n",
    "# Condition 2: Go to bars more than once a month and are under the age of 30\n",
    "# We've already handled the conversion of age strings to numeric values by creating and populating 'age_numeric' column on data dataframe\n",
    "condition2 = (data_bar_coupon['Bar'].isin(['1~3', '4~8', 'gt8'])) & (data_bar_coupon['age_num'] < 30)\n",
    "    \n",
    "# Condition 3: Go to cheap restaurants more than 4 times a month and income is less than 50K\n",
    "condition3 = (data_bar_coupon['RestaurantLessThan20'].isin(['4~8', 'gt8'])) & (data_bar_coupon['income'].isin(['Less than $12500', '$12500 - $24999', '$25000 - $37499', '$37500 - $49999']))\n",
    "    \n",
    "# Apply conditions to filter data set\n",
    "dbc_filtered_c1 = data_bar_coupon[condition1]\n",
    "dbc_filtered_c2 = data_bar_coupon[condition2]\n",
    "dbc_filtered_c3 = data_bar_coupon[condition3]\n",
    "\n",
    "# Calculate acceptance rates\"\n",
    "dbc_c1_acceptance_rates = dbc_filtered_c1['Y'].mean()\n",
    "dbc_c2_acceptance_rates = dbc_filtered_c2['Y'].mean()\n",
    "dbc_c3_acceptance_rates = dbc_filtered_c3['Y'].mean()\n",
    "    \n",
    "print('Condition 1 - acceptance rate: ',dbc_c1_acceptance_rates)\n",
    "print('Condition 2 - acceptance rate: ',dbc_c2_acceptance_rates)\n",
    "print('Condition 3 - acceptance rate: ',dbc_c3_acceptance_rates)\n",
    "\n",
    "#The bar coupon acceptance rate was approximately 71% for drivers who go to bars more than once a month, had passengers that were not a kid, and were not widowed.\n",
    "#The bar coupon acceptance rate was approximately 72% for drivers who go to bars more than once a month and are under the age of 30.\n",
    "#The bar coupon acceptance rate was approximately 45% for drivers who go to cheap restaurants more than 4 times a month and income is less than 50K"
   ]
  },
  {
   "cell_type": "markdown",
   "metadata": {
    "id": "v3fL3QkO_qRK"
   },
   "source": [
    "7.  Based on these observations, what do you hypothesize about drivers who accepted the bar coupons?"
   ]
  },
  {
   "cell_type": "code",
   "execution_count": null,
   "metadata": {
    "id": "Y48naDFh_qRL"
   },
   "outputs": [],
   "source": [
    "#High Frequency of Bar Visits:\n",
    "    #Drivers who frequently visit bars, especially more than 3 times a month, are significantly more likely to accept bar coupons. This suggests a strong correlation between the frequency of bar visits and the likelihood of accepting related coupons, possibly due to a higher value placed on such discounts by regular patrons\n",
    "#Age Factor:\n",
    "    #Younger drivers, particularly those under the age of 30, show a higher acceptance rate for bar coupons. This could indicate that younger demographics are more inclined towards social outings like bar visits and are more receptive to discounts associated with such activities\n",
    "    \n",
    "#Marital Status and Occupation:\n",
    "    #Drivers who are not widowed and have occupations outside of farming, fishing, or forestry are more likely to accept bar coupons. This might reflect lifestyle or social patterns where individuals in certain occupations or marital statuses have more social engagements or value leisure activities differently\n",
    "    \n",
    "#Economic and Dining Preferences: \n",
    "    #Drivers with specific economic and dining preferences, such as those who frequent cheap restaurants and have an income of less than 50K, have distinct acceptance rates. This could suggest that economic factors and personal dining habits influence the perceived value of bar coupons.\n",
    "    \n",
    "#General Acceptance Among Other Drivers: \n",
    "    #The relatively lower acceptance rate among \\\"all other drivers\\\" indicates that there are specific demographic and behavioral traits that significantly influence the likelihood of accepting bar coupons. This group likely includes drivers who do not frequently visit bars or do not fit into the specific demographic profiles outlined above\n",
    "    \n",
    "#These hypotheses suggest that demographic factors (such as age and marital status), behavioral patterns (frequency of bar visits), economic status, and personal preferences (dining habits) play crucial roles in determining the likelihood of accepting bar coupons"
   ]
  },
  {
   "cell_type": "markdown",
   "metadata": {
    "id": "r4Hu1zOb_qRL"
   },
   "source": [
    "### Independent Investigation\n",
    "\n",
    "Using the bar coupon example as motivation, you are to explore one of the other coupon groups and try to determine the characteristics of passengers who accept the coupons.  "
   ]
  },
  {
   "cell_type": "code",
   "execution_count": 256,
   "metadata": {
    "id": "0c71cQhu_qRL"
   },
   "outputs": [
    {
     "name": "stdout",
     "output_type": "stream",
     "text": [
      "<class 'pandas.core.frame.DataFrame'>\n",
      "Index: 633 entries, 25 to 12673\n",
      "Data columns (total 27 columns):\n",
      " #   Column                Non-Null Count  Dtype \n",
      "---  ------                --------------  ----- \n",
      " 0   destination           633 non-null    object\n",
      " 1   passanger             633 non-null    object\n",
      " 2   weather               633 non-null    object\n",
      " 3   temperature           633 non-null    int64 \n",
      " 4   time                  633 non-null    object\n",
      " 5   coupon                633 non-null    object\n",
      " 6   expiration            633 non-null    object\n",
      " 7   gender                633 non-null    object\n",
      " 8   age                   633 non-null    object\n",
      " 9   maritalStatus         633 non-null    object\n",
      " 10  has_children          633 non-null    int64 \n",
      " 11  education             633 non-null    object\n",
      " 12  occupation            633 non-null    object\n",
      " 13  income                633 non-null    object\n",
      " 14  car                   6 non-null      object\n",
      " 15  Bar                   622 non-null    object\n",
      " 16  CoffeeHouse           626 non-null    object\n",
      " 17  CarryAway             630 non-null    object\n",
      " 18  RestaurantLessThan20  627 non-null    object\n",
      " 19  Restaurant20To50      625 non-null    object\n",
      " 20  toCoupon_GEQ5min      633 non-null    int64 \n",
      " 21  toCoupon_GEQ15min     633 non-null    int64 \n",
      " 22  toCoupon_GEQ25min     633 non-null    int64 \n",
      " 23  direction_same        633 non-null    int64 \n",
      " 24  direction_opp         633 non-null    int64 \n",
      " 25  Y                     633 non-null    int64 \n",
      " 26  age_num               633 non-null    int64 \n",
      "dtypes: int64(9), object(18)\n",
      "memory usage: 138.5+ KB\n"
     ]
    }
   ],
   "source": [
    "#Looking at drivers who declined Carry Out & Take Away coupons:\n",
    "#Filter for instances where Carry Out & Take away coupons were declined\n",
    "data_declined_carryout = data[(data[\"coupon\"]==\"Carry out & Take away\") & (data[\"Y\"]==0)]\n",
    "\n",
    "data_declined_carryout.info()\n",
    "\n",
    "#Analyze dataset for interesting observations:"
   ]
  },
  {
   "cell_type": "code",
   "execution_count": 263,
   "metadata": {
    "id": "QEsBkvIN_qRL"
   },
   "outputs": [
    {
     "name": "stdout",
     "output_type": "stream",
     "text": [
      "DeclinebyAge   age_num\n",
      "21    19.91\n",
      "26    19.91\n",
      "31    18.33\n",
      "51    12.32\n",
      "36     9.95\n",
      "41     9.32\n",
      "46     5.37\n",
      "20     4.90\n",
      "Name: proportion, dtype: float64\n"
     ]
    }
   ],
   "source": [
    "# Look at declines by age\n",
    "decline_by_age = (data_declined_carryout[\"age_num\"].value_counts(normalize=True) * 100).round(2)\n",
    "print(\"DeclinebyAge\", decline_by_age)"
   ]
  },
  {
   "cell_type": "code",
   "execution_count": 264,
   "metadata": {
    "id": "fTC2WGE3_qRL"
   },
   "outputs": [
    {
     "data": {
      "text/plain": [
       "Text(0.5, 1.0, 'Coupon Declines by Age')"
      ]
     },
     "execution_count": 264,
     "metadata": {},
     "output_type": "execute_result"
    },
    {
     "data": {
      "image/png": "[encoded data removed]",
      "text/plain": [
       "<Figure size 640x480 with 1 Axes>"
      ]
     },
     "metadata": {},
     "output_type": "display_data"
    }
   ],
   "source": [
    "# plot declines by Age\n",
    "sns.countplot(x=\"age\", data=data_declined_carryout, palette=\"viridis\", order = data_declined_carryout[\"age\"].value_counts().index)\n",
    "plt.title(\"Coupon Declines by Age\")"
   ]
  },
  {
   "cell_type": "code",
   "execution_count": null,
   "metadata": {
    "id": "RrqUWn7d_qRL"
   },
   "outputs": [],
   "source": [
    "#Looking at the chart, while sending most coupons for CoffeeHouse, the acceptance rate is lower than the other coupons.\n",
    "#Also, while less coupons are sent for Bar, the acceptance rate is lower than the other coupons as well.\n",
    "#RestaurantLessThan20 and CarryAway have a higher acceptance rate than the other coupons."
   ]
  },
  {
   "cell_type": "code",
   "execution_count": null,
   "metadata": {
    "id": "_oykf8YP_qRL"
   },
   "outputs": [],
   "source": []
  }
 ],
 "metadata": {
  "colab": {
   "provenance": []
  },
  "kernelspec": {
   "display_name": "anaconda-panel-2023.05-py310",
   "language": "python",
   "name": "conda-env-anaconda-panel-2023.05-py310-py"
  },
  "language_info": {
   "codemirror_mode": {
    "name": "ipython",
    "version": 3
   },
   "file_extension": ".py",
   "mimetype": "text/x-python",
   "name": "python",
   "nbconvert_exporter": "python",
   "pygments_lexer": "ipython3",
   "version": "3.11.5"
  }
 },
 "nbformat": 4,
 "nbformat_minor": 4
}
